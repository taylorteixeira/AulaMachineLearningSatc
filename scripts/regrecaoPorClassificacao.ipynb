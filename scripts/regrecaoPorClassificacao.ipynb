{
 "cells": [
  {
   "cell_type": "code",
   "execution_count": 3,
   "metadata": {},
   "outputs": [
    {
     "name": "stdout",
     "output_type": "stream",
     "text": [
      "Acurácia do modelo: 1.0\n"
     ]
    }
   ],
   "source": [
    "import pandas as pd\n",
    "from sklearn.model_selection import train_test_split\n",
    "from sklearn.tree import DecisionTreeClassifier\n",
    "from sklearn.preprocessing import OrdinalEncoder\n",
    "from sklearn.metrics import accuracy_score\n",
    "\n",
    "# Carregar o dataset\n",
    "df = pd.read_csv(\"../assets/Iris.csv\")\n",
    "\n",
    "# Criar uma instância do OrdinalEncoder\n",
    "encoder = OrdinalEncoder()\n",
    "\n",
    "# Ajustar e transformar a coluna 'Species'\n",
    "df['Species'] = encoder.fit_transform(df[['Species']])\n",
    "\n",
    "# Selecionar as features e o target\n",
    "features = ['SepalLengthCm', 'SepalWidthCm', 'PetalLengthCm', 'PetalWidthCm']\n",
    "X = df[features]\n",
    "y = df['Species']\n",
    "\n",
    "# Dividir os dados em conjuntos de treino e teste\n",
    "X_train, X_test, y_train, y_test = train_test_split(X, y, test_size=0.3, random_state=42)\n",
    "\n",
    "# Criar o modelo de Árvore de Decisão\n",
    "modelo = DecisionTreeClassifier()\n",
    "\n",
    "# Treinar o modelo\n",
    "modelo.fit(X_train, y_train)\n",
    "\n",
    "# Fazer previsões com os dados de teste\n",
    "y_pred = modelo.predict(X_test)\n",
    "\n",
    "# Avaliar o modelo\n",
    "acuracia = accuracy_score(y_test, y_pred)\n",
    "print(\"Acurácia do modelo:\", acuracia)"
   ]
  }
 ],
 "metadata": {
  "kernelspec": {
   "display_name": "Python 3",
   "language": "python",
   "name": "python3"
  },
  "language_info": {
   "codemirror_mode": {
    "name": "ipython",
    "version": 3
   },
   "file_extension": ".py",
   "mimetype": "text/x-python",
   "name": "python",
   "nbconvert_exporter": "python",
   "pygments_lexer": "ipython3",
   "version": "3.12.4"
  }
 },
 "nbformat": 4,
 "nbformat_minor": 2
}
