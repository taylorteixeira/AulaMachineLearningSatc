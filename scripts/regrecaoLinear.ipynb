{
 "cells": [
  {
   "cell_type": "code",
   "execution_count": 2,
   "metadata": {},
   "outputs": [
    {
     "name": "stdout",
     "output_type": "stream",
     "text": [
      "Mean Squared Error: 46.144775347317264\n",
      "Coeficiente: [9.34830141]\n",
      "Intercepto: -36.24631889813792\n",
      "Previsão para 5 quartos: 10.495188134350691\n"
     ]
    },
    {
     "name": "stderr",
     "output_type": "stream",
     "text": [
      "c:\\Users\\6125974\\AppData\\Local\\Programs\\Python\\Python312\\Lib\\site-packages\\sklearn\\base.py:493: UserWarning: X does not have valid feature names, but LinearRegression was fitted with feature names\n",
      "  warnings.warn(\n"
     ]
    }
   ],
   "source": [
    "import pandas as pd\n",
    "from sklearn.linear_model import LinearRegression\n",
    "from sklearn.model_selection import train_test_split\n",
    "from sklearn.metrics import mean_squared_error\n",
    "\n",
    "# Carregar o dataset\n",
    "df = pd.read_csv(\"../assets/BostonHousing.csv\")\n",
    "\n",
    "# Selecionar a feature 'RM' (número médio de quartos) como variável independente\n",
    "X = df[['rm']]\n",
    "\n",
    "# Selecionar 'MEDV' (valor mediano das casas) como variável dependente\n",
    "y = df['medv']\n",
    "\n",
    "# Dividir os dados em conjuntos de treino e teste\n",
    "X_train, X_test, y_train, y_test = train_test_split(X, y, test_size=0.2, random_state=42)\n",
    "\n",
    "# Criar o modelo de regressão linear\n",
    "model = LinearRegression()\n",
    "\n",
    "# Treinar o modelo com os dados de treino\n",
    "model.fit(X_train, y_train)\n",
    "\n",
    "# Fazer previsões com os dados de teste\n",
    "y_pred = model.predict(X_test)\n",
    "\n",
    "# Avaliar o modelo\n",
    "mse = mean_squared_error(y_test, y_pred)\n",
    "print(\"Mean Squared Error:\", mse)\n",
    "\n",
    "# Imprimir os coeficientes da regressão linear\n",
    "print(\"Coeficiente:\", model.coef_)\n",
    "print(\"Intercepto:\", model.intercept_)\n",
    "\n",
    "# Exemplo de previsão para um novo dado\n",
    "novos_quartos = [[5]]  # Número médio de quartos = 5\n",
    "nova_previsao = model.predict(novos_quartos)\n",
    "print(\"Previsão para\", novos_quartos[0][0], \"quartos:\", nova_previsao[0])"
   ]
  }
 ],
 "metadata": {
  "kernelspec": {
   "display_name": "Python 3",
   "language": "python",
   "name": "python3"
  },
  "language_info": {
   "codemirror_mode": {
    "name": "ipython",
    "version": 3
   },
   "file_extension": ".py",
   "mimetype": "text/x-python",
   "name": "python",
   "nbconvert_exporter": "python",
   "pygments_lexer": "ipython3",
   "version": "3.12.4"
  }
 },
 "nbformat": 4,
 "nbformat_minor": 2
}
