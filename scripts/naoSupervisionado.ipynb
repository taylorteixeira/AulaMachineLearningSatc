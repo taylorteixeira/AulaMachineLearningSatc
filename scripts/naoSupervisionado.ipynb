{
 "cells": [
  {
   "cell_type": "code",
   "execution_count": 4,
   "metadata": {},
   "outputs": [
    {
     "name": "stderr",
     "output_type": "stream",
     "text": [
      "c:\\Users\\6125974\\AppData\\Local\\Programs\\Python\\Python312\\Lib\\site-packages\\joblib\\externals\\loky\\backend\\context.py:136: UserWarning: Could not find the number of physical cores for the following reason:\n",
      "found 0 physical cores < 1\n",
      "Returning the number of logical cores instead. You can silence this warning by setting LOKY_MAX_CPU_COUNT to the number of cores you want to use.\n",
      "  warnings.warn(\n",
      "  File \"c:\\Users\\6125974\\AppData\\Local\\Programs\\Python\\Python312\\Lib\\site-packages\\joblib\\externals\\loky\\backend\\context.py\", line 282, in _count_physical_cores\n",
      "    raise ValueError(f\"found {cpu_count_physical} physical cores < 1\")\n"
     ]
    },
    {
     "name": "stdout",
     "output_type": "stream",
     "text": [
      "Cluster\n",
      "0    124\n",
      "1     41\n",
      "2     35\n",
      "Name: count, dtype: int64\n",
      "               Age  Annual Income (k$)  Spending Score (1-100)\n",
      "Cluster                                                       \n",
      "0        44.483871           59.879032               35.427419\n",
      "1        32.975610           88.731707               79.243902\n",
      "2        25.771429           29.971429               68.514286\n"
     ]
    }
   ],
   "source": [
    "import pandas as pd\n",
    "from sklearn.cluster import KMeans\n",
    "\n",
    "# Carregar o dataset\n",
    "df = pd.read_csv(\"../assets/Mall_Customers.csv\")\n",
    "\n",
    "# Selecionar as features relevantes\n",
    "features = ['Age', 'Annual Income (k$)', 'Spending Score (1-100)']\n",
    "X = df[features]\n",
    "\n",
    "# Criar o modelo K-means com 3 clusters\n",
    "kmeans = KMeans(n_clusters=3, random_state=42)\n",
    "\n",
    "# Treinar o modelo\n",
    "kmeans.fit(X)\n",
    "\n",
    "# Obter os clusters atribuídos a cada cliente\n",
    "clusters = kmeans.labels_\n",
    "\n",
    "# Adicionar a coluna de cluster ao dataframe original\n",
    "df['Cluster'] = clusters\n",
    "\n",
    "# Imprimir a quantidade de clientes em cada cluster\n",
    "print(df['Cluster'].value_counts())\n",
    "\n",
    "# Imprimir a média das features para cada cluster\n",
    "print(df.groupby('Cluster')[features].mean())"
   ]
  }
 ],
 "metadata": {
  "kernelspec": {
   "display_name": "Python 3",
   "language": "python",
   "name": "python3"
  },
  "language_info": {
   "codemirror_mode": {
    "name": "ipython",
    "version": 3
   },
   "file_extension": ".py",
   "mimetype": "text/x-python",
   "name": "python",
   "nbconvert_exporter": "python",
   "pygments_lexer": "ipython3",
   "version": "3.12.4"
  }
 },
 "nbformat": 4,
 "nbformat_minor": 2
}
